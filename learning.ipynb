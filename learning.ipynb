{
 "cells": [
  {
   "cell_type": "code",
   "execution_count": 1,
   "metadata": {},
   "outputs": [],
   "source": [
    "\n",
    "\n",
    "import torch\n",
    "import torch.nn as nn\n",
    "\n",
    "from fiery.models.encoder import Encoder\n",
    "from fiery.models.temporal_model import TemporalModelIdentity, TemporalModel\n",
    "from fiery.models.distributions import DistributionModule\n",
    "from fiery.models.future_prediction import FuturePrediction\n",
    "from fiery.models.decoder import Decoder\n",
    "from fiery.utils.network import pack_sequence_dim, unpack_sequence_dim, set_bn_momentum\n",
    "from fiery.utils.geometry import cumulative_warp_features, calculate_birds_eye_view_parameters, VoxelsSumming"
   ]
  },
  {
   "attachments": {},
   "cell_type": "markdown",
   "metadata": {},
   "source": [
    "Frustum Creation\n",
    "\n",
    "This function appears to be creating a frustum, which is a three-dimensional shape that is a pyramid with a flat top and base, and four triangular sides. The frustum is defined in terms of a grid in the image plane, and has three dimensions: left-right, top-bottom, and depth.\n",
    "\n",
    "The function first defines the height and width of the image plane, as well as the downsampled versions of these values. It then creates a depth grid by creating a 1D tensor of depth values between the bounds specified in the configuration (D_bound), and reshapes this tensor into a 3D tensor with dimensions (n_depth_slices, downsampled_h, downsampled_w).\n",
    "\n",
    "Next, the function creates x and y grids that are also 3D tensors with dimensions (n_depth_slices, downsampled_h, downsampled_w). These grids contain the x and y coordinates of each point in the image plane, respectively.\n",
    "\n",
    "Finally, the function stacks these three grids along the last dimension to create a frustum tensor with dimensions (n_depth_slices, downsampled_h, downsampled_w, 3). This tensor contains the x, y, and depth coordinates of each point in the frustum. The frustum tensor is then wrapped in a PyTorch nn.Parameter and returned."
   ]
  },
  {
   "cell_type": "code",
   "execution_count": 10,
   "metadata": {},
   "outputs": [],
   "source": [
    "image_dim = (224, 480)\n",
    "encoder_downsample = 8\n",
    "D_bound = [2.0, 50.0, 1.0]\n",
    "def create_frustum():\n",
    "    # Create grid in image plane\n",
    "    h, w = image_dim\n",
    "    downsampled_h, downsampled_w = h // encoder_downsample, w // encoder_downsample\n",
    "\n",
    "    # Depth grid\n",
    "    depth_grid = torch.arange(*D_bound, dtype=torch.float)\n",
    "    depth_grid = depth_grid.view(-1, 1, 1).expand(-1, downsampled_h, downsampled_w)\n",
    "    n_depth_slices = depth_grid.shape[0]\n",
    "\n",
    "    # x and y grids\n",
    "    x_grid = torch.linspace(0, w - 1, downsampled_w, dtype=torch.float)\n",
    "    x_grid = x_grid.view(1, 1, downsampled_w).expand(n_depth_slices, downsampled_h, downsampled_w)\n",
    "    y_grid = torch.linspace(0, h - 1, downsampled_h, dtype=torch.float)\n",
    "    y_grid = y_grid.view(1, downsampled_h, 1).expand(n_depth_slices, downsampled_h, downsampled_w)\n",
    "\n",
    "    # Dimension (n_depth_slices, downsampled_h, downsampled_w, 3)\n",
    "    # containing data points in the image: left-right, top-bottom, depth\n",
    "    frustum = torch.stack((x_grid, y_grid, depth_grid), -1)\n",
    "    return nn.Parameter(frustum, requires_grad=False)"
   ]
  },
  {
   "cell_type": "code",
   "execution_count": 28,
   "metadata": {},
   "outputs": [
    {
     "name": "stdout",
     "output_type": "stream",
     "text": [
      "The depth grid shape is'torch.Size([48, 28, 60])\n",
      "tensor([[[ 2.,  2.,  2.,  ...,  2.,  2.,  2.],\n",
      "         [ 2.,  2.,  2.,  ...,  2.,  2.,  2.],\n",
      "         [ 2.,  2.,  2.,  ...,  2.,  2.,  2.],\n",
      "         ...,\n",
      "         [ 2.,  2.,  2.,  ...,  2.,  2.,  2.],\n",
      "         [ 2.,  2.,  2.,  ...,  2.,  2.,  2.],\n",
      "         [ 2.,  2.,  2.,  ...,  2.,  2.,  2.]],\n",
      "\n",
      "        [[ 3.,  3.,  3.,  ...,  3.,  3.,  3.],\n",
      "         [ 3.,  3.,  3.,  ...,  3.,  3.,  3.],\n",
      "         [ 3.,  3.,  3.,  ...,  3.,  3.,  3.],\n",
      "         ...,\n",
      "         [ 3.,  3.,  3.,  ...,  3.,  3.,  3.],\n",
      "         [ 3.,  3.,  3.,  ...,  3.,  3.,  3.],\n",
      "         [ 3.,  3.,  3.,  ...,  3.,  3.,  3.]],\n",
      "\n",
      "        [[ 4.,  4.,  4.,  ...,  4.,  4.,  4.],\n",
      "         [ 4.,  4.,  4.,  ...,  4.,  4.,  4.],\n",
      "         [ 4.,  4.,  4.,  ...,  4.,  4.,  4.],\n",
      "         ...,\n",
      "         [ 4.,  4.,  4.,  ...,  4.,  4.,  4.],\n",
      "         [ 4.,  4.,  4.,  ...,  4.,  4.,  4.],\n",
      "         [ 4.,  4.,  4.,  ...,  4.,  4.,  4.]],\n",
      "\n",
      "        ...,\n",
      "\n",
      "        [[47., 47., 47.,  ..., 47., 47., 47.],\n",
      "         [47., 47., 47.,  ..., 47., 47., 47.],\n",
      "         [47., 47., 47.,  ..., 47., 47., 47.],\n",
      "         ...,\n",
      "         [47., 47., 47.,  ..., 47., 47., 47.],\n",
      "         [47., 47., 47.,  ..., 47., 47., 47.],\n",
      "         [47., 47., 47.,  ..., 47., 47., 47.]],\n",
      "\n",
      "        [[48., 48., 48.,  ..., 48., 48., 48.],\n",
      "         [48., 48., 48.,  ..., 48., 48., 48.],\n",
      "         [48., 48., 48.,  ..., 48., 48., 48.],\n",
      "         ...,\n",
      "         [48., 48., 48.,  ..., 48., 48., 48.],\n",
      "         [48., 48., 48.,  ..., 48., 48., 48.],\n",
      "         [48., 48., 48.,  ..., 48., 48., 48.]],\n",
      "\n",
      "        [[49., 49., 49.,  ..., 49., 49., 49.],\n",
      "         [49., 49., 49.,  ..., 49., 49., 49.],\n",
      "         [49., 49., 49.,  ..., 49., 49., 49.],\n",
      "         ...,\n",
      "         [49., 49., 49.,  ..., 49., 49., 49.],\n",
      "         [49., 49., 49.,  ..., 49., 49., 49.],\n",
      "         [49., 49., 49.,  ..., 49., 49., 49.]]])\n"
     ]
    }
   ],
   "source": [
    "# Depth grid creation\n",
    "D_bound = [2.0, 50.0, 1.0]\n",
    "h, w = image_dim\n",
    "downsampled_h, downsampled_w = h // encoder_downsample, w // encoder_downsample\n",
    "\n",
    "depth_grid = torch.arange(*D_bound, dtype=torch.float)\n",
    "depth_grid = depth_grid.view(-1, 1, 1).expand(-1, downsampled_h, downsampled_w)\n",
    "n_depth_slices = depth_grid.shape[0]\n",
    "print(f\"The depth grid shape is'{depth_grid.shape}\")\n",
    "print(depth_grid)"
   ]
  },
  {
   "cell_type": "code",
   "execution_count": 27,
   "metadata": {},
   "outputs": [
    {
     "name": "stdout",
     "output_type": "stream",
     "text": [
      "The x grid grid shape is torch.Size([48, 28, 60])\n",
      "The y grid grid shape is torch.Size([48, 28, 60])\n"
     ]
    }
   ],
   "source": [
    "# x and y grids\n",
    "x_grid = torch.linspace(0, w - 1, downsampled_w, dtype=torch.float)\n",
    "x_grid = x_grid.view(1, 1, downsampled_w).expand(n_depth_slices, downsampled_h, downsampled_w)\n",
    "print(f\"The x grid grid shape is {x_grid.shape}\")\n",
    "y_grid = torch.linspace(0, h - 1, downsampled_h, dtype=torch.float)\n",
    "y_grid = y_grid.view(1, downsampled_h, 1).expand(n_depth_slices, downsampled_h, downsampled_w)\n",
    "print(f\"The y grid shape is {y_grid.shape}\")"
   ]
  },
  {
   "cell_type": "code",
   "execution_count": 47,
   "metadata": {},
   "outputs": [
    {
     "name": "stdout",
     "output_type": "stream",
     "text": [
      "The y frustum shape is torch.Size([48, 28, 60, 3])\n"
     ]
    }
   ],
   "source": [
    "\n",
    "# Create frustum of Dimension (n_depth_slices, downsampled_h, downsampled_w, 3)\n",
    "# containing data points in the image: x, y, depth\n",
    "frustum = torch.stack((x_grid, y_grid, depth_grid), -1)\n",
    "print(f\"The y frustum shape is {frustum.shape}\")\n",
    "#print(frustum)\n",
    "#print(frustum[1,27])"
   ]
  },
  {
   "cell_type": "code",
   "execution_count": null,
   "metadata": {},
   "outputs": [],
   "source": []
  }
 ],
 "metadata": {
  "kernelspec": {
   "display_name": "fiery",
   "language": "python",
   "name": "python3"
  },
  "language_info": {
   "codemirror_mode": {
    "name": "ipython",
    "version": 3
   },
   "file_extension": ".py",
   "mimetype": "text/x-python",
   "name": "python",
   "nbconvert_exporter": "python",
   "pygments_lexer": "ipython3",
   "version": "3.7.10"
  },
  "orig_nbformat": 4,
  "vscode": {
   "interpreter": {
    "hash": "42b18f0de52ab44fca08e30efe98475ea9d3ba16d1e376f4f93b2d6d0f980eb4"
   }
  }
 },
 "nbformat": 4,
 "nbformat_minor": 2
}
